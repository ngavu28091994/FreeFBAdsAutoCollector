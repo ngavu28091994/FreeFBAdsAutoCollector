{
  "nbformat": 4,
  "nbformat_minor": 0,
  "metadata": {
    "colab": {
      "provenance": []
    },
    "kernelspec": {
      "name": "python3",
      "display_name": "Python 3"
    },
    "language_info": {
      "name": "python"
    }
  },
  "cells": [
    {
      "cell_type": "code",
      "execution_count": null,
      "metadata": {
        "id": "xM8SY0g9bGoA"
      },
      "outputs": [],
      "source": [
        "!pip install facebook_business\n",
        "!pip install gspread\n",
        "!pip install google-auth\n",
        "!pip install pytz\n",
        "!pip install pandas"
      ]
    },
    {
      "cell_type": "code",
      "source": [
        "import gspread\n",
        "from google.oauth2.service_account import Credentials\n",
        "\n",
        "# Đường dẫn tới file JSON chứa thông tin xác thực\n",
        "creds_json_path = './key.json'  # Cập nhật đường dẫn đúng\n",
        "\n",
        "# Tạo credentials\n",
        "creds = Credentials.from_service_account_file(\n",
        "    creds_json_path,\n",
        "    scopes=['https://www.googleapis.com/auth/spreadsheets',\n",
        "            'https://www.googleapis.com/auth/drive']\n",
        ")\n",
        "\n",
        "# Kết nối với Google Sheets\n",
        "client = gspread.authorize(creds)\n",
        "\n",
        "# Mở Google Sheet bằng URL của nó\n",
        "sheet = client.open_by_url('https://docs.google.com/spreadsheets/d/{gooogle_sheet_id}/edit')\n",
        "\n",
        "worksheet_name = 'Token'\n",
        "worksheet = sheet.worksheet(worksheet_name)\n",
        "access_token = worksheet.acell('A2').value\n"
      ],
      "metadata": {
        "id": "ulfxlV-mN6-U"
      },
      "execution_count": null,
      "outputs": []
    },
    {
      "cell_type": "code",
      "source": [
        "import datetime\n",
        "from facebook_business.api import FacebookAdsApi\n",
        "from facebook_business.adobjects.adaccount import AdAccount\n",
        "from facebook_business.adobjects.adsinsights import AdsInsights\n",
        "\n",
        "ad_account_id = 'act_{your_act}'\n",
        "FacebookAdsApi.init(access_token=access_token)\n",
        "\n",
        "# Lấy ngày hiện tại và ngày đầu tiên của tháng hiện tại\n",
        "today = datetime.datetime.today() - datetime.timedelta(days=1)\n",
        "first_day_of_month = today.replace(day=1)\n",
        "\n",
        "# Lấy danh sách các quảng cáo đang chạy trong tháng hiện tại\n",
        "fields = [\n",
        "    'ad_id',\n",
        "    'ad_name',\n",
        "    'campaign_id',\n",
        "    'campaign_name',\n",
        "    'spend',\n",
        "    'impressions',\n",
        "    'clicks',\n",
        "    'actions'\n",
        "]\n",
        "params = {\n",
        "    'time_range': {'since': first_day_of_month.strftime('%Y-%m-%d'), 'until': today.strftime('%Y-%m-%d')},\n",
        "    'level': 'ad',\n",
        "    'time_increment': 1,\n",
        "}\n",
        "\n",
        "ads = AdAccount(ad_account_id).get_insights(fields=fields, params=params)\n",
        "\n"
      ],
      "metadata": {
        "id": "OZL9sQn3rlsg"
      },
      "execution_count": null,
      "outputs": []
    },
    {
      "cell_type": "code",
      "source": [
        "data = []\n",
        "for ad in ads:\n",
        "    messages_count = 0\n",
        "    if 'actions' in ad:\n",
        "        for action in ad['actions']:\n",
        "            if action['action_type'] == 'onsite_conversion.messaging_conversation_started_7d':\n",
        "                messages_count = action['value']\n",
        "                break\n",
        "    data.append({\n",
        "        'ad_id': ad['ad_id'],\n",
        "        'ad_name': ad['ad_name'],\n",
        "        'campaign_id': ad['campaign_id'],\n",
        "        'campaign_name': ad['campaign_name'],\n",
        "        'spend': ad['spend'],\n",
        "        'impressions': ad['impressions'],\n",
        "        'clicks': ad['clicks'],\n",
        "        'date_start': ad['date_start'],\n",
        "        'date_stop': ad['date_stop'],\n",
        "        'messages': int(messages_count)\n",
        "    })\n"
      ],
      "metadata": {
        "id": "K3wHN7sa2UpQ"
      },
      "execution_count": null,
      "outputs": []
    },
    {
      "cell_type": "code",
      "source": [
        "import pandas as pd\n",
        "df = pd.DataFrame(data)\n",
        "#df.to_csv('ads_data.csv', index=False)\n",
        "#df.head()"
      ],
      "metadata": {
        "id": "TLF91JNv2f-F"
      },
      "execution_count": null,
      "outputs": []
    },
    {
      "cell_type": "code",
      "source": [
        "\n",
        "worksheet_name = today.strftime('%Y%m')\n",
        "try:\n",
        "    # Kiểm tra nếu worksheet đã tồn tại\n",
        "    worksheet = sheet.worksheet(worksheet_name)\n",
        "    sheet.del_worksheet(worksheet)\n",
        "    worksheet = sheet.worksheet(worksheet_name)\n",
        "except gspread.exceptions.WorksheetNotFound:\n",
        "    # Tạo worksheet mới nếu không tồn tại\n",
        "    worksheet = sheet.add_worksheet(title=worksheet_name, rows=\"100\", cols=\"20\")\n",
        "\n",
        "# Dữ liệu mà bạn muốn ghi vào\n",
        "data  = [df.columns.values.tolist()] + df.values.tolist()\n",
        "\n",
        "# Ghi dữ liệu vào worksheet, bắt đầu từ ô A1\n",
        "worksheet.update('A1', data)\n"
      ],
      "metadata": {
        "id": "88ZFtFWCLIdw"
      },
      "execution_count": null,
      "outputs": []
    },
    {
      "cell_type": "code",
      "source": [
        "worksheet_name = 'Token'\n",
        "worksheet = sheet.worksheet(worksheet_name)\n",
        "from datetime import datetime\n",
        "import pytz\n",
        "\n",
        "# Lấy múi giờ Asia/Ho_Chi_Minh\n",
        "ho_chi_minh_tz = pytz.timezone('Asia/Ho_Chi_Minh')\n",
        "\n",
        "# Lấy thời gian hiện tại theo múi giờ Ho Chi Minh\n",
        "current_time_ho_chi_minh = datetime.now(ho_chi_minh_tz)\n",
        "\n",
        "# Định dạng thời gian hiện tại thành chuỗi\n",
        "formatted_time = current_time_ho_chi_minh.strftime('%Y-%m-%d %H:%M:%S')\n",
        "worksheet.update_cell(2,2, formatted_time)"
      ],
      "metadata": {
        "id": "JREuoVDKLwcu"
      },
      "execution_count": null,
      "outputs": []
    },
    {
      "cell_type": "code",
      "source": [],
      "metadata": {
        "id": "ms6_woBzVrg3"
      },
      "execution_count": null,
      "outputs": []
    }
  ]
}